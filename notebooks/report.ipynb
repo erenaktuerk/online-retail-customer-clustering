{
 "cells": [
  {
   "cell_type": "code",
   "execution_count": null,
   "metadata": {
    "vscode": {
     "languageId": "plaintext"
    }
   },
   "outputs": [],
   "source": [
    "# Report.ipynb\n",
    "\n",
    "# Data Summary\n",
    "import pandas as pd\n",
    "\n",
    "# Load the clustered data\n",
    "data = pd.read_csv('../data/clustered_online_retail.csv')\n",
    "\n",
    "# Summary of the data\n",
    "print(\"Data Overview:\")\n",
    "print(data.describe())\n",
    "\n",
    "# Cluster Summary\n",
    "cluster_summary = data.groupby('Cluster').mean()\n",
    "print(\"\\nCluster Summary:\")\n",
    "print(cluster_summary)\n",
    "\n",
    "# Visualization of Clusters\n",
    "import seaborn as sns\n",
    "import matplotlib.pyplot as plt\n",
    "\n",
    "# Plot the clusters\n",
    "plt.figure(figsize=(8, 6))\n",
    "sns.scatterplot(x='UnitPrice', y='Quantity', hue='Cluster', data=data, palette='viridis')\n",
    "plt.title('Cluster Visualization')\n",
    "plt.show()\n",
    "\n",
    "# Cluster Characteristics (e.g., average of 'UnitPrice' and 'Quantity')\n",
    "print(\"\\nCluster Characteristics:\")\n",
    "print(cluster_summary[['UnitPrice', 'Quantity']])"
   ]
  }
 ],
 "metadata": {
  "language_info": {
   "name": "python"
  }
 },
 "nbformat": 4,
 "nbformat_minor": 2
}
