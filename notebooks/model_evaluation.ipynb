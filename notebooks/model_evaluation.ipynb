{
 "cells": [
  {
   "cell_type": "code",
   "execution_count": null,
   "metadata": {
    "vscode": {
     "languageId": "plaintext"
    }
   },
   "outputs": [],
   "source": [
    "# Model_evaluation.ipynb\n",
    "\n",
    "# Import necessary libraries\n",
    "from sklearn.cluster import KMeans\n",
    "from sklearn.metrics import silhouette_score\n",
    "import pandas as pd\n",
    "\n",
    "# Load the clustered data\n",
    "data = pd.read_csv('../data/clustered_online_retail.csv')\n",
    "\n",
    "# Silhouette Score\n",
    "sil_score = silhouette_score(data[['UnitPrice', 'Quantity']], data['Cluster'])\n",
    "print(f\"Silhouette Score: {sil_score}\")\n",
    "\n",
    "# Davies-Bouldin Index\n",
    "from sklearn.metrics import davies_bouldin_score\n",
    "db_score = davies_bouldin_score(data[['UnitPrice', 'Quantity']], data['Cluster'])\n",
    "print(f\"Davies-Bouldin Index: {db_score}\")\n",
    "\n",
    "# Elbow Method to determine optimal number of clusters (optional)\n",
    "import matplotlib.pyplot as plt\n",
    "wcss = []\n",
    "for i in range(1, 11):\n",
    "    kmeans = KMeans(n_clusters=i, init='k-means++', max_iter=300, n_init=10, random_state=42)\n",
    "    kmeans.fit(data[['UnitPrice', 'Quantity']])\n",
    "    wcss.append(kmeans.inertia_)\n",
    "\n",
    "# Plotting the Elbow graph\n",
    "plt.figure(figsize=(8, 6))\n",
    "plt.plot(range(1, 11), wcss)\n",
    "plt.title('Elbow Method for Optimal Number of Clusters')\n",
    "plt.xlabel('Number of Clusters')\n",
    "plt.ylabel('WCSS')\n",
    "plt.show()"
   ]
  }
 ],
 "metadata": {
  "language_info": {
   "name": "python"
  }
 },
 "nbformat": 4,
 "nbformat_minor": 2
}
