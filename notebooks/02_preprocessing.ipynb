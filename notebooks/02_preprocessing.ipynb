{
 "cells": [
  {
   "cell_type": "code",
   "execution_count": null,
   "metadata": {
    "vscode": {
     "languageId": "plaintext"
    }
   },
   "outputs": [],
   "source": [
    "# Preprocessing.ipynb\n",
    "\n",
    "# Import necessary libraries\n",
    "import pandas as pd\n",
    "from sklearn.preprocessing import StandardScaler\n",
    "\n",
    "# Load the dataset\n",
    "data = pd.read_csv('../data/online_retail.csv')\n",
    "\n",
    "# Handle missing values by filling them with the median or dropping\n",
    "data = data.dropna(subset=['UnitPrice', 'Quantity'])  # Example: Drop rows with missing 'UnitPrice' or 'Quantity'\n",
    "\n",
    "# Select relevant columns for clustering\n",
    "data_cleaned = data[['UnitPrice', 'Quantity']]\n",
    "\n",
    "# Standardize the features for clustering\n",
    "scaler = StandardScaler()\n",
    "data_scaled = scaler.fit_transform(data_cleaned)\n",
    "\n",
    "# Save the preprocessed data\n",
    "pd.DataFrame(data_scaled, columns=['UnitPrice', 'Quantity']).to_csv('../data/processed_online_retail.csv', index=False)"
   ]
  }
 ],
 "metadata": {
  "language_info": {
   "name": "python"
  }
 },
 "nbformat": 4,
 "nbformat_minor": 2
}
