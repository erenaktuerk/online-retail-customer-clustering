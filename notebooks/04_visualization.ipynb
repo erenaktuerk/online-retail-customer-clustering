{
 "cells": [
  {
   "cell_type": "code",
   "execution_count": null,
   "metadata": {
    "vscode": {
     "languageId": "plaintext"
    }
   },
   "outputs": [],
   "source": [
    "# Visualization.ipynb\n",
    "\n",
    "# Import necessary libraries\n",
    "import pandas as pd\n",
    "import seaborn as sns\n",
    "import matplotlib.pyplot as plt\n",
    "\n",
    "# Load the clustered data\n",
    "data = pd.read_csv('../data/clustered_online_retail.csv')\n",
    "\n",
    "# Visualize the distribution of features for each cluster\n",
    "plt.figure(figsize=(8, 6))\n",
    "sns.boxplot(x='Cluster', y='UnitPrice', data=data)\n",
    "plt.title('UnitPrice Distribution per Cluster')\n",
    "plt.show()\n",
    "\n",
    "plt.figure(figsize=(8, 6))\n",
    "sns.boxplot(x='Cluster', y='Quantity', data=data)\n",
    "plt.title('Quantity Distribution per Cluster')\n",
    "plt.show()\n",
    "\n",
    "# Visualize the relationships between clusters and other features\n",
    "sns.pairplot(data, hue='Cluster', vars=['UnitPrice', 'Quantity'])\n",
    "plt.show()"
   ]
  }
 ],
 "metadata": {
  "language_info": {
   "name": "python"
  }
 },
 "nbformat": 4,
 "nbformat_minor": 2
}
