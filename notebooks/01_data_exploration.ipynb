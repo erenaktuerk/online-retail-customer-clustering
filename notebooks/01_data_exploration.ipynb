{
 "cells": [
  {
   "cell_type": "code",
   "execution_count": null,
   "metadata": {
    "vscode": {
     "languageId": "plaintext"
    }
   },
   "outputs": [],
   "source": [
    "# EDA.ipynb\n",
    "\n",
    "# Import necessary libraries\n",
    "import pandas as pd\n",
    "import numpy as np\n",
    "import seaborn as sns\n",
    "import matplotlib.pyplot as plt\n",
    "\n",
    "# Load the dataset\n",
    "data = pd.read_csv('../data/OnlineRetail.csv')\n",
    "\n",
    "# Show the first few rows of the dataset\n",
    "data.head()\n",
    "\n",
    "# Check for missing values\n",
    "data.isnull().sum()\n",
    "\n",
    "# Describe numerical features\n",
    "data.describe()\n",
    "\n",
    "# Visualize the distribution of numerical features\n",
    "sns.pairplot(data.select_dtypes(include=np.number))\n",
    "\n",
    "# Visualize correlations between numerical features\n",
    "plt.figure(figsize=(10, 8))\n",
    "sns.heatmap(data.corr(), annot=True, cmap='coolwarm')\n",
    "\n",
    "# Plot the distribution of a specific feature (e.g., 'UnitPrice')\n",
    "plt.figure(figsize=(8, 6))\n",
    "sns.histplot(data['UnitPrice'], kde=True)\n",
    "\n",
    "# Boxplot for visualizing outliers in 'Quantity'\n",
    "plt.figure(figsize=(8, 6))\n",
    "sns.boxplot(x=data['Quantity'])\n",
    "\n",
    "# Save the cleaned data (if applicable)\n",
    "data.to_csv('../data/cleaned_online_retail.csv', index=False)"
   ]
  },
  {
   "cell_type": "code",
   "execution_count": null,
   "metadata": {
    "vscode": {
     "languageId": "plaintext"
    }
   },
   "outputs": [],
   "source": []
  }
 ],
 "metadata": {
  "language_info": {
   "name": "python"
  }
 },
 "nbformat": 4,
 "nbformat_minor": 2
}
